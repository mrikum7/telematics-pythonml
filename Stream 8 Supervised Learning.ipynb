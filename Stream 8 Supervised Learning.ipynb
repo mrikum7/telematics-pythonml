{
 "cells": [
  {
   "cell_type": "code",
   "execution_count": 2,
   "metadata": {},
   "outputs": [],
   "source": [
    "import mglearn              ##Start\n",
    "from sklearn import naive_bayes\n",
    "from sklearn import linear_model\n",
    "from sklearn.neighbors import KNeighborsClassifier, RadiusNeighborsClassifier\n",
    "from sklearn import svm\n",
    "import pandas as pd\n",
    "import matplotlib.pyplot as plt"
   ]
  },
  {
   "cell_type": "markdown",
   "metadata": {},
   "source": [
    "## Supervised Learning with Python Classification/Regression"
   ]
  },
  {
   "cell_type": "code",
   "execution_count": 13,
   "metadata": {},
   "outputs": [],
   "source": [
    "X, y = mglearn.datasets.make_forge()     #Imported forge dataset"
   ]
  },
  {
   "cell_type": "code",
   "execution_count": 26,
   "metadata": {},
   "outputs": [
    {
     "data": {
      "text/html": [
       "<div>\n",
       "<style scoped>\n",
       "    .dataframe tbody tr th:only-of-type {\n",
       "        vertical-align: middle;\n",
       "    }\n",
       "\n",
       "    .dataframe tbody tr th {\n",
       "        vertical-align: top;\n",
       "    }\n",
       "\n",
       "    .dataframe thead th {\n",
       "        text-align: right;\n",
       "    }\n",
       "</style>\n",
       "<table border=\"1\" class=\"dataframe\">\n",
       "  <thead>\n",
       "    <tr style=\"text-align: right;\">\n",
       "      <th></th>\n",
       "      <th>Feature1</th>\n",
       "      <th>Feature2</th>\n",
       "      <th>Labels</th>\n",
       "    </tr>\n",
       "  </thead>\n",
       "  <tbody>\n",
       "    <tr>\n",
       "      <th>0</th>\n",
       "      <td>9.963466</td>\n",
       "      <td>4.596765</td>\n",
       "      <td>1</td>\n",
       "    </tr>\n",
       "    <tr>\n",
       "      <th>1</th>\n",
       "      <td>11.032954</td>\n",
       "      <td>-0.168167</td>\n",
       "      <td>0</td>\n",
       "    </tr>\n",
       "    <tr>\n",
       "      <th>2</th>\n",
       "      <td>11.541558</td>\n",
       "      <td>5.211161</td>\n",
       "      <td>1</td>\n",
       "    </tr>\n",
       "    <tr>\n",
       "      <th>3</th>\n",
       "      <td>8.692890</td>\n",
       "      <td>1.543220</td>\n",
       "      <td>0</td>\n",
       "    </tr>\n",
       "    <tr>\n",
       "      <th>4</th>\n",
       "      <td>8.106227</td>\n",
       "      <td>4.286960</td>\n",
       "      <td>0</td>\n",
       "    </tr>\n",
       "    <tr>\n",
       "      <th>5</th>\n",
       "      <td>8.309889</td>\n",
       "      <td>4.806240</td>\n",
       "      <td>1</td>\n",
       "    </tr>\n",
       "    <tr>\n",
       "      <th>6</th>\n",
       "      <td>11.930271</td>\n",
       "      <td>4.648663</td>\n",
       "      <td>1</td>\n",
       "    </tr>\n",
       "    <tr>\n",
       "      <th>7</th>\n",
       "      <td>9.672847</td>\n",
       "      <td>-0.202832</td>\n",
       "      <td>0</td>\n",
       "    </tr>\n",
       "    <tr>\n",
       "      <th>8</th>\n",
       "      <td>8.348103</td>\n",
       "      <td>5.134156</td>\n",
       "      <td>1</td>\n",
       "    </tr>\n",
       "    <tr>\n",
       "      <th>9</th>\n",
       "      <td>8.674947</td>\n",
       "      <td>4.475731</td>\n",
       "      <td>1</td>\n",
       "    </tr>\n",
       "    <tr>\n",
       "      <th>10</th>\n",
       "      <td>9.177484</td>\n",
       "      <td>5.092832</td>\n",
       "      <td>1</td>\n",
       "    </tr>\n",
       "    <tr>\n",
       "      <th>11</th>\n",
       "      <td>10.240289</td>\n",
       "      <td>2.455444</td>\n",
       "      <td>1</td>\n",
       "    </tr>\n",
       "    <tr>\n",
       "      <th>12</th>\n",
       "      <td>8.689371</td>\n",
       "      <td>1.487096</td>\n",
       "      <td>0</td>\n",
       "    </tr>\n",
       "    <tr>\n",
       "      <th>13</th>\n",
       "      <td>8.922295</td>\n",
       "      <td>-0.639932</td>\n",
       "      <td>0</td>\n",
       "    </tr>\n",
       "    <tr>\n",
       "      <th>14</th>\n",
       "      <td>9.491235</td>\n",
       "      <td>4.332248</td>\n",
       "      <td>1</td>\n",
       "    </tr>\n",
       "    <tr>\n",
       "      <th>15</th>\n",
       "      <td>9.256942</td>\n",
       "      <td>5.132849</td>\n",
       "      <td>1</td>\n",
       "    </tr>\n",
       "    <tr>\n",
       "      <th>16</th>\n",
       "      <td>7.998153</td>\n",
       "      <td>4.852505</td>\n",
       "      <td>1</td>\n",
       "    </tr>\n",
       "    <tr>\n",
       "      <th>17</th>\n",
       "      <td>8.183781</td>\n",
       "      <td>1.295642</td>\n",
       "      <td>0</td>\n",
       "    </tr>\n",
       "    <tr>\n",
       "      <th>18</th>\n",
       "      <td>8.733709</td>\n",
       "      <td>2.491624</td>\n",
       "      <td>0</td>\n",
       "    </tr>\n",
       "    <tr>\n",
       "      <th>19</th>\n",
       "      <td>9.322983</td>\n",
       "      <td>5.098406</td>\n",
       "      <td>1</td>\n",
       "    </tr>\n",
       "    <tr>\n",
       "      <th>20</th>\n",
       "      <td>10.063938</td>\n",
       "      <td>0.990781</td>\n",
       "      <td>0</td>\n",
       "    </tr>\n",
       "    <tr>\n",
       "      <th>21</th>\n",
       "      <td>9.500490</td>\n",
       "      <td>-0.264303</td>\n",
       "      <td>0</td>\n",
       "    </tr>\n",
       "    <tr>\n",
       "      <th>22</th>\n",
       "      <td>8.344688</td>\n",
       "      <td>1.638243</td>\n",
       "      <td>0</td>\n",
       "    </tr>\n",
       "    <tr>\n",
       "      <th>23</th>\n",
       "      <td>9.501693</td>\n",
       "      <td>1.938246</td>\n",
       "      <td>0</td>\n",
       "    </tr>\n",
       "    <tr>\n",
       "      <th>24</th>\n",
       "      <td>9.150723</td>\n",
       "      <td>5.498322</td>\n",
       "      <td>1</td>\n",
       "    </tr>\n",
       "    <tr>\n",
       "      <th>25</th>\n",
       "      <td>11.563957</td>\n",
       "      <td>1.338940</td>\n",
       "      <td>0</td>\n",
       "    </tr>\n",
       "  </tbody>\n",
       "</table>\n",
       "</div>"
      ],
      "text/plain": [
       "     Feature1  Feature2  Labels\n",
       "0    9.963466  4.596765       1\n",
       "1   11.032954 -0.168167       0\n",
       "2   11.541558  5.211161       1\n",
       "3    8.692890  1.543220       0\n",
       "4    8.106227  4.286960       0\n",
       "5    8.309889  4.806240       1\n",
       "6   11.930271  4.648663       1\n",
       "7    9.672847 -0.202832       0\n",
       "8    8.348103  5.134156       1\n",
       "9    8.674947  4.475731       1\n",
       "10   9.177484  5.092832       1\n",
       "11  10.240289  2.455444       1\n",
       "12   8.689371  1.487096       0\n",
       "13   8.922295 -0.639932       0\n",
       "14   9.491235  4.332248       1\n",
       "15   9.256942  5.132849       1\n",
       "16   7.998153  4.852505       1\n",
       "17   8.183781  1.295642       0\n",
       "18   8.733709  2.491624       0\n",
       "19   9.322983  5.098406       1\n",
       "20  10.063938  0.990781       0\n",
       "21   9.500490 -0.264303       0\n",
       "22   8.344688  1.638243       0\n",
       "23   9.501693  1.938246       0\n",
       "24   9.150723  5.498322       1\n",
       "25  11.563957  1.338940       0"
      ]
     },
     "execution_count": 26,
     "metadata": {},
     "output_type": "execute_result"
    }
   ],
   "source": [
    "data = {'Feature1' : X[:, 0],\n",
    "        'Feature2' : X[:, 1],\n",
    "        'Labels' : y}\n",
    "pd.DataFrame(data, index = None)"
   ]
  },
  {
   "cell_type": "code",
   "execution_count": 24,
   "metadata": {
    "scrolled": true
   },
   "outputs": [
    {
     "data": {
      "text/plain": [
       "[<matplotlib.lines.Line2D at 0x7fe3a8eb9a10>,\n",
       " <matplotlib.lines.Line2D at 0x7fe3a8eb9fd0>]"
      ]
     },
     "execution_count": 24,
     "metadata": {},
     "output_type": "execute_result"
    },
    {
     "data": {
      "image/png": "[encoded data removed]",
      "text/plain": [
       "<Figure size 432x288 with 1 Axes>"
      ]
     },
     "metadata": {
      "needs_background": "light"
     },
     "output_type": "display_data"
    }
   ],
   "source": [
    "mglearn.discrete_scatter(X[:, 0], X[:, 1], y)"
   ]
  },
  {
   "cell_type": "code",
   "execution_count": 36,
   "metadata": {},
   "outputs": [],
   "source": [
    "clf = svm.SVC()"
   ]
  },
  {
   "cell_type": "code",
   "execution_count": 39,
   "metadata": {},
   "outputs": [
    {
     "data": {
      "text/plain": [
       "SVC(C=1.0, break_ties=False, cache_size=200, class_weight=None, coef0=0.0,\n",
       "    decision_function_shape='ovr', degree=3, gamma='scale', kernel='rbf',\n",
       "    max_iter=-1, probability=False, random_state=None, shrinking=True,\n",
       "    tol=0.001, verbose=False)"
      ]
     },
     "execution_count": 39,
     "metadata": {},
     "output_type": "execute_result"
    }
   ],
   "source": [
    "clf.fit(X, y)"
   ]
  },
  {
   "cell_type": "code",
   "execution_count": 40,
   "metadata": {},
   "outputs": [
    {
     "data": {
      "text/plain": [
       "array([1, 0, 1, 0, 1, 1, 1, 0, 1, 1, 1, 0, 0, 0, 1, 1, 1, 0, 0, 1, 0, 0,\n",
       "       0, 0, 1, 0])"
      ]
     },
     "execution_count": 40,
     "metadata": {},
     "output_type": "execute_result"
    }
   ],
   "source": [
    "clf.predict(X)"
   ]
  },
  {
   "cell_type": "code",
   "execution_count": 42,
   "metadata": {},
   "outputs": [
    {
     "data": {
      "text/plain": [
       "[<matplotlib.lines.Line2D at 0x7fe3a8db4d90>,\n",
       " <matplotlib.lines.Line2D at 0x7fe3a8db2310>]"
      ]
     },
     "execution_count": 42,
     "metadata": {},
     "output_type": "execute_result"
    },
    {
     "data": {
      "image/png": "[encoded data removed]",
      "text/plain": [
       "<Figure size 432x288 with 1 Axes>"
      ]
     },
     "metadata": {
      "needs_background": "light"
     },
     "output_type": "display_data"
    }
   ],
   "source": [
    "mglearn.discrete_scatter(X[:, 0], X[:, 1], y)"
   ]
  },
  {
   "cell_type": "code",
   "execution_count": 43,
   "metadata": {},
   "outputs": [
    {
     "data": {
      "text/plain": [
       "[<matplotlib.lines.Line2D at 0x7fe3a8d75510>,\n",
       " <matplotlib.lines.Line2D at 0x7fe3a8db25d0>]"
      ]
     },
     "execution_count": 43,
     "metadata": {},
     "output_type": "execute_result"
    },
    {
     "data": {
      "image/png": "[encoded data removed]",
      "text/plain": [
       "<Figure size 432x288 with 1 Axes>"
      ]
     },
     "metadata": {
      "needs_background": "light"
     },
     "output_type": "display_data"
    }
   ],
   "source": [
    "mglearn.discrete_scatter(X[:, 0], X[:, 1], clf.predict(X))"
   ]
  },
  {
   "cell_type": "code",
   "execution_count": 57,
   "metadata": {},
   "outputs": [
    {
     "data": {
      "text/plain": [
       "[<matplotlib.lines.Line2D at 0x7fe3a83f57d0>]"
      ]
     },
     "execution_count": 57,
     "metadata": {},
     "output_type": "execute_result"
    },
    {
     "data": {
      "image/png": "[encoded data removed]",
      "text/plain": [
       "<Figure size 432x288 with 1 Axes>"
      ]
     },
     "metadata": {
      "needs_background": "light"
     },
     "output_type": "display_data"
    }
   ],
   "source": [
    "X, y = mglearn.datasets.make_wave()\n",
    "mglearn.discrete_scatter(X[:, 0], y)"
   ]
  },
  {
   "cell_type": "code",
   "execution_count": 58,
   "metadata": {},
   "outputs": [],
   "source": [
    "clf = linear_model.LinearRegression()"
   ]
  },
  {
   "cell_type": "code",
   "execution_count": 59,
   "metadata": {},
   "outputs": [
    {
     "data": {
      "text/plain": [
       "LinearRegression(copy_X=True, fit_intercept=True, n_jobs=None, normalize=False)"
      ]
     },
     "execution_count": 59,
     "metadata": {},
     "output_type": "execute_result"
    }
   ],
   "source": [
    "clf.fit(X, y)"
   ]
  },
  {
   "cell_type": "code",
   "execution_count": 65,
   "metadata": {},
   "outputs": [
    {
     "data": {
      "text/plain": [
       "[<matplotlib.lines.Line2D at 0x7fe3a8bf8390>]"
      ]
     },
     "execution_count": 65,
     "metadata": {},
     "output_type": "execute_result"
    },
    {
     "data": {
      "image/png": "[encoded data removed]",
      "text/plain": [
       "<Figure size 432x288 with 1 Axes>"
      ]
     },
     "metadata": {
      "needs_background": "light"
     },
     "output_type": "display_data"
    }
   ],
   "source": [
    "mglearn.discrete_scatter(X[:, 0], y)\n",
    "mglearn.discrete_scatter(X[:, 0], clf.predict(X), markers='-')"
   ]
  },
  {
   "cell_type": "code",
   "execution_count": 66,
   "metadata": {},
   "outputs": [],
   "source": [
    "from sklearn.metrics import r2_score"
   ]
  },
  {
   "cell_type": "code",
   "execution_count": 67,
   "metadata": {},
   "outputs": [
    {
     "data": {
      "text/plain": [
       "0.6238092976730384"
      ]
     },
     "execution_count": 67,
     "metadata": {},
     "output_type": "execute_result"
    }
   ],
   "source": [
    "r2_score(y, clf.predict(X))"
   ]
  },
  {
   "cell_type": "code",
   "execution_count": 6,
   "metadata": {},
   "outputs": [],
   "source": [
    "import numpy as np\n",
    "import matplotlib.pyplot as plt"
   ]
  },
  {
   "cell_type": "code",
   "execution_count": 5,
   "metadata": {},
   "outputs": [],
   "source": [
    "x = np.linspace(0, 4, 10000)\n",
    "sin = np.sin(x)\n",
    "cos = np.cos(x)\n",
    "exp = np.exp(x)\n",
    "y = sin * cos * exp"
   ]
  },
  {
   "cell_type": "code",
   "execution_count": 8,
   "metadata": {},
   "outputs": [],
   "source": [
    "clf = linear_model.LinearRegression()"
   ]
  },
  {
   "cell_type": "code",
   "execution_count": 9,
   "metadata": {},
   "outputs": [
    {
     "data": {
      "text/plain": [
       "LinearRegression(copy_X=True, fit_intercept=True, n_jobs=None, normalize=False)"
      ]
     },
     "execution_count": 9,
     "metadata": {},
     "output_type": "execute_result"
    }
   ],
   "source": [
    "clf.fit(x.reshape(-1, 1), y)"
   ]
  },
  {
   "cell_type": "code",
   "execution_count": 11,
   "metadata": {},
   "outputs": [
    {
     "data": {
      "text/plain": [
       "[<matplotlib.lines.Line2D at 0x7f1886b02110>]"
      ]
     },
     "execution_count": 11,
     "metadata": {},
     "output_type": "execute_result"
    },
    {
     "data": {
      "image/png": "[encoded data removed]",
      "text/plain": [
       "<Figure size 432x288 with 1 Axes>"
      ]
     },
     "metadata": {
      "needs_background": "light"
     },
     "output_type": "display_data"
    }
   ],
   "source": [
    "plt.plot(x, y, 'r-')\n",
    "plt.plot(x, clf.predict(x.reshape(-1, 1)))"
   ]
  },
  {
   "cell_type": "code",
   "execution_count": 11,
   "metadata": {},
   "outputs": [
    {
     "name": "stderr",
     "output_type": "stream",
     "text": [
      "/home/mrikum7/anaconda3/lib/python3.7/site-packages/sklearn/utils/deprecation.py:87: FutureWarning: Function make_blobs is deprecated; Please import make_blobs directly from scikit-learn\n",
      "  warnings.warn(msg, category=FutureWarning)\n"
     ]
    }
   ],
   "source": [
    "clf = KNeighborsClassifier(n_neighbors = 3,\n",
    "                           #weights='distance', \n",
    "                           algorithm = 'brute', \n",
    "                           p = 2, \n",
    "                           n_jobs= 5)\n",
    "X, y = mglearn.datasets.make_forge() # X is actually Data or Set of Features\n",
    "# y is actually labels associated with features"
   ]
  },
  {
   "cell_type": "code",
   "execution_count": 13,
   "metadata": {},
   "outputs": [
    {
     "data": {
      "text/plain": [
       "KNeighborsClassifier(algorithm='brute', leaf_size=30, metric='minkowski',\n",
       "                     metric_params=None, n_jobs=5, n_neighbors=3, p=2,\n",
       "                     weights='uniform')"
      ]
     },
     "execution_count": 13,
     "metadata": {},
     "output_type": "execute_result"
    }
   ],
   "source": [
    "clf.fit(X, y)"
   ]
  },
  {
   "cell_type": "code",
   "execution_count": 14,
   "metadata": {},
   "outputs": [
    {
     "data": {
      "text/plain": [
       "0.9230769230769231"
      ]
     },
     "execution_count": 14,
     "metadata": {},
     "output_type": "execute_result"
    },
    {
     "data": {
      "image/png": "[encoded data removed]",
      "text/plain": [
       "<Figure size 432x288 with 1 Axes>"
      ]
     },
     "metadata": {},
     "output_type": "display_data"
    }
   ],
   "source": [
    "mglearn.discrete_scatter(X[:, 0], X[:, 1], y)\n",
    "mglearn.plots.plot_2d_separator(clf, X, fill = True, eps = 0.5, alpha = 0.4)\n",
    "clf.score(X, y)"
   ]
  },
  {
   "cell_type": "code",
   "execution_count": 54,
   "metadata": {
    "scrolled": true
   },
   "outputs": [
    {
     "data": {
      "image/png": "[encoded data removed]",
      "text/plain": [
       "<Figure size 432x288 with 1 Axes>"
      ]
     },
     "metadata": {},
     "output_type": "display_data"
    }
   ],
   "source": [
    "clf = svm.SVC()\n",
    "clf.fit(X, y)\n",
    "mglearn.discrete_scatter(X[:, 0], X[:, 1], y)\n",
    "mglearn.plots.plot_2d_separator(clf, X, fill = True, eps = 0.5, alpha = 0.4)"
   ]
  },
  {
   "cell_type": "code",
   "execution_count": 76,
   "metadata": {},
   "outputs": [
    {
     "data": {
      "image/png": "[encoded data removed]",
      "text/plain": [
       "<Figure size 432x288 with 1 Axes>"
      ]
     },
     "metadata": {},
     "output_type": "display_data"
    }
   ],
   "source": [
    "clf = naive_bayes.GaussianNB()\n",
    "clf.fit(X, y)\n",
    "mglearn.discrete_scatter(X[:, 0], X[:, 1], y)\n",
    "mglearn.plots.plot_2d_separator(clf, X, fill = True, eps = 0.5, alpha = 0.4)"
   ]
  },
  {
   "cell_type": "code",
   "execution_count": 7,
   "metadata": {},
   "outputs": [],
   "source": [
    "from sklearn.model_selection import train_test_split"
   ]
  },
  {
   "cell_type": "code",
   "execution_count": 8,
   "metadata": {},
   "outputs": [],
   "source": [
    "X_train, X_test, y_train, y_test = train_test_split(X, y,\n",
    "                                                    test_size = 0.20,\n",
    "                                                    random_state = 21)\n"
   ]
  },
  {
   "cell_type": "code",
   "execution_count": 10,
   "metadata": {
    "scrolled": true
   },
   "outputs": [
    {
     "name": "stdout",
     "output_type": "stream",
     "text": [
      "1.0\n"
     ]
    },
    {
     "data": {
      "image/png": "[encoded data removed]",
      "text/plain": [
       "<Figure size 432x288 with 1 Axes>"
      ]
     },
     "metadata": {},
     "output_type": "display_data"
    }
   ],
   "source": [
    "clf = KNeighborsClassifier(n_neighbors = 1, weights = 'uniform', algorithm = 'brute')\n",
    "clf.fit(X_train, y_train)\n",
    "mglearn.discrete_scatter(X_test[:, 0], X_test[:, 1], y_test)\n",
    "mglearn.plots.plot_2d_separator(clf, X_test, fill = True,\n",
    "                                eps = 0.5,\n",
    "                                alpha = 0.4)\n",
    "print(clf.score(X_test, y_test))"
   ]
  },
  {
   "cell_type": "code",
   "execution_count": 21,
   "metadata": {},
   "outputs": [
    {
     "data": {
      "image/png": "[encoded data removed]",
      "text/plain": [
       "<Figure size 432x288 with 1 Axes>"
      ]
     },
     "metadata": {},
     "output_type": "display_data"
    }
   ],
   "source": [
    "clf = KNeighborsClassifier(n_neighbors = 1, \n",
    "                           metric = 'minkowski')\n",
    "clf.fit(X, y)\n",
    "clf.score(X, y)\n",
    "mglearn.discrete_scatter(X[:, 0], X[:, 1], y)\n",
    "mglearn.plots.plot_2d_separator(clf, X, fill = True, eps = 0.5, alpha = 0.4, threshold = 0.5)\n"
   ]
  },
  {
   "cell_type": "code",
   "execution_count": 23,
   "metadata": {},
   "outputs": [
    {
     "ename": "SyntaxError",
     "evalue": "invalid syntax (<ipython-input-23-c5f5db0dfe86>, line 1)",
     "output_type": "error",
     "traceback": [
      "\u001b[0;36m  File \u001b[0;32m\"<ipython-input-23-c5f5db0dfe86>\"\u001b[0;36m, line \u001b[0;32m1\u001b[0m\n\u001b[0;31m    xdg-open /home/mrikum7/anaconda3/lib/python3.7/site-packages/sklearn/neighbors/_classification.py\u001b[0m\n\u001b[0m                                                 ^\u001b[0m\n\u001b[0;31mSyntaxError\u001b[0m\u001b[0;31m:\u001b[0m invalid syntax\n"
     ]
    }
   ],
   "source": []
  },
  {
   "cell_type": "code",
   "execution_count": 34,
   "metadata": {},
   "outputs": [
    {
     "ename": "AttributeError",
     "evalue": "'NearestNeighbors' object has no attribute 'predict_proba'",
     "output_type": "error",
     "traceback": [
      "\u001b[0;31m---------------------------------------------------------------------------\u001b[0m",
      "\u001b[0;31mAttributeError\u001b[0m                            Traceback (most recent call last)",
      "\u001b[0;32m~/anaconda3/lib/python3.7/site-packages/mglearn/plot_2d_separator.py\u001b[0m in \u001b[0;36mplot_2d_separator\u001b[0;34m(classifier, X, fill, ax, eps, alpha, cm, linewidth, threshold, linestyle)\u001b[0m\n\u001b[1;32m     85\u001b[0m     \u001b[0;32mtry\u001b[0m\u001b[0;34m:\u001b[0m\u001b[0;34m\u001b[0m\u001b[0;34m\u001b[0m\u001b[0m\n\u001b[0;32m---> 86\u001b[0;31m         \u001b[0mdecision_values\u001b[0m \u001b[0;34m=\u001b[0m \u001b[0mclassifier\u001b[0m\u001b[0;34m.\u001b[0m\u001b[0mdecision_function\u001b[0m\u001b[0;34m(\u001b[0m\u001b[0mX_grid\u001b[0m\u001b[0;34m)\u001b[0m\u001b[0;34m\u001b[0m\u001b[0;34m\u001b[0m\u001b[0m\n\u001b[0m\u001b[1;32m     87\u001b[0m         \u001b[0mlevels\u001b[0m \u001b[0;34m=\u001b[0m \u001b[0;34m[\u001b[0m\u001b[0;36m0\u001b[0m\u001b[0;34m]\u001b[0m \u001b[0;32mif\u001b[0m \u001b[0mthreshold\u001b[0m \u001b[0;32mis\u001b[0m \u001b[0;32mNone\u001b[0m \u001b[0;32melse\u001b[0m \u001b[0;34m[\u001b[0m\u001b[0mthreshold\u001b[0m\u001b[0;34m]\u001b[0m\u001b[0;34m\u001b[0m\u001b[0;34m\u001b[0m\u001b[0m\n",
      "\u001b[0;31mAttributeError\u001b[0m: 'NearestNeighbors' object has no attribute 'decision_function'",
      "\nDuring handling of the above exception, another exception occurred:\n",
      "\u001b[0;31mAttributeError\u001b[0m                            Traceback (most recent call last)",
      "\u001b[0;32m<ipython-input-34-02396bd1cac0>\u001b[0m in \u001b[0;36m<module>\u001b[0;34m\u001b[0m\n\u001b[1;32m      3\u001b[0m \u001b[0mclf\u001b[0m\u001b[0;34m.\u001b[0m\u001b[0mfit\u001b[0m\u001b[0;34m(\u001b[0m\u001b[0mX\u001b[0m\u001b[0;34m,\u001b[0m \u001b[0my\u001b[0m\u001b[0;34m)\u001b[0m\u001b[0;34m\u001b[0m\u001b[0;34m\u001b[0m\u001b[0m\n\u001b[1;32m      4\u001b[0m \u001b[0mmglearn\u001b[0m\u001b[0;34m.\u001b[0m\u001b[0mdiscrete_scatter\u001b[0m\u001b[0;34m(\u001b[0m\u001b[0mX\u001b[0m\u001b[0;34m[\u001b[0m\u001b[0;34m:\u001b[0m\u001b[0;34m,\u001b[0m \u001b[0;36m0\u001b[0m\u001b[0;34m]\u001b[0m\u001b[0;34m,\u001b[0m \u001b[0mX\u001b[0m\u001b[0;34m[\u001b[0m\u001b[0;34m:\u001b[0m\u001b[0;34m,\u001b[0m \u001b[0;36m1\u001b[0m\u001b[0;34m]\u001b[0m\u001b[0;34m,\u001b[0m \u001b[0my\u001b[0m\u001b[0;34m)\u001b[0m\u001b[0;34m\u001b[0m\u001b[0;34m\u001b[0m\u001b[0m\n\u001b[0;32m----> 5\u001b[0;31m \u001b[0mmglearn\u001b[0m\u001b[0;34m.\u001b[0m\u001b[0mplots\u001b[0m\u001b[0;34m.\u001b[0m\u001b[0mplot_2d_separator\u001b[0m\u001b[0;34m(\u001b[0m\u001b[0mclf\u001b[0m\u001b[0;34m,\u001b[0m \u001b[0mX\u001b[0m\u001b[0;34m,\u001b[0m \u001b[0mfill\u001b[0m \u001b[0;34m=\u001b[0m \u001b[0;32mTrue\u001b[0m\u001b[0;34m,\u001b[0m \u001b[0meps\u001b[0m \u001b[0;34m=\u001b[0m \u001b[0;36m0.5\u001b[0m\u001b[0;34m,\u001b[0m \u001b[0malpha\u001b[0m \u001b[0;34m=\u001b[0m \u001b[0;36m0.4\u001b[0m\u001b[0;34m)\u001b[0m\u001b[0;34m\u001b[0m\u001b[0;34m\u001b[0m\u001b[0m\n\u001b[0m",
      "\u001b[0;32m~/anaconda3/lib/python3.7/site-packages/mglearn/plot_2d_separator.py\u001b[0m in \u001b[0;36mplot_2d_separator\u001b[0;34m(classifier, X, fill, ax, eps, alpha, cm, linewidth, threshold, linestyle)\u001b[0m\n\u001b[1;32m     90\u001b[0m     \u001b[0;32mexcept\u001b[0m \u001b[0mAttributeError\u001b[0m\u001b[0;34m:\u001b[0m\u001b[0;34m\u001b[0m\u001b[0;34m\u001b[0m\u001b[0m\n\u001b[1;32m     91\u001b[0m         \u001b[0;31m# no decision_function\u001b[0m\u001b[0;34m\u001b[0m\u001b[0;34m\u001b[0m\u001b[0;34m\u001b[0m\u001b[0m\n\u001b[0;32m---> 92\u001b[0;31m         \u001b[0mdecision_values\u001b[0m \u001b[0;34m=\u001b[0m \u001b[0mclassifier\u001b[0m\u001b[0;34m.\u001b[0m\u001b[0mpredict_proba\u001b[0m\u001b[0;34m(\u001b[0m\u001b[0mX_grid\u001b[0m\u001b[0;34m)\u001b[0m\u001b[0;34m[\u001b[0m\u001b[0;34m:\u001b[0m\u001b[0;34m,\u001b[0m \u001b[0;36m1\u001b[0m\u001b[0;34m]\u001b[0m\u001b[0;34m\u001b[0m\u001b[0;34m\u001b[0m\u001b[0m\n\u001b[0m\u001b[1;32m     93\u001b[0m         \u001b[0mlevels\u001b[0m \u001b[0;34m=\u001b[0m \u001b[0;34m[\u001b[0m\u001b[0;36m.5\u001b[0m\u001b[0;34m]\u001b[0m \u001b[0;32mif\u001b[0m \u001b[0mthreshold\u001b[0m \u001b[0;32mis\u001b[0m \u001b[0;32mNone\u001b[0m \u001b[0;32melse\u001b[0m \u001b[0;34m[\u001b[0m\u001b[0mthreshold\u001b[0m\u001b[0;34m]\u001b[0m\u001b[0;34m\u001b[0m\u001b[0;34m\u001b[0m\u001b[0m\n\u001b[1;32m     94\u001b[0m         \u001b[0mfill_levels\u001b[0m \u001b[0;34m=\u001b[0m \u001b[0;34m[\u001b[0m\u001b[0;36m0\u001b[0m\u001b[0;34m]\u001b[0m \u001b[0;34m+\u001b[0m \u001b[0mlevels\u001b[0m \u001b[0;34m+\u001b[0m \u001b[0;34m[\u001b[0m\u001b[0;36m1\u001b[0m\u001b[0;34m]\u001b[0m\u001b[0;34m\u001b[0m\u001b[0;34m\u001b[0m\u001b[0m\n",
      "\u001b[0;31mAttributeError\u001b[0m: 'NearestNeighbors' object has no attribute 'predict_proba'"
     ]
    },
    {
     "data": {
      "image/png": "[encoded data removed]",
      "text/plain": [
       "<Figure size 432x288 with 1 Axes>"
      ]
     },
     "metadata": {
      "needs_background": "light"
     },
     "output_type": "display_data"
    }
   ],
   "source": [
    "from sklearn.neighbors import NearestNeighbors\n",
    "clf = NearestNeighbors(n_neighbors=1, metric = 'chebyshev')\n",
    "clf.fit(X, y)\n",
    "mglearn.discrete_scatter(X[:, 0], X[:, 1], y)\n",
    "mglearn.plots.plot_2d_separator(clf, X, fill = True, eps = 0.5, alpha = 0.4)"
   ]
  },
  {
   "cell_type": "markdown",
   "metadata": {},
   "source": [
    "## Boston Housing Problem"
   ]
  },
  {
   "cell_type": "code",
   "execution_count": 15,
   "metadata": {},
   "outputs": [],
   "source": [
    "boston = mglearn.datasets.load_boston()\n",
    "from sklearn.model_selection import train_test_split"
   ]
  },
  {
   "cell_type": "code",
   "execution_count": 16,
   "metadata": {},
   "outputs": [
    {
     "data": {
      "text/plain": [
       "(506, 13)"
      ]
     },
     "execution_count": 16,
     "metadata": {},
     "output_type": "execute_result"
    }
   ],
   "source": [
    "boston.data.shape        ### (n_samples, n_features)\n"
   ]
  },
  {
   "cell_type": "code",
   "execution_count": 6,
   "metadata": {},
   "outputs": [],
   "source": [
    "X_train, X_test, y_train, y_test = train_test_split(boston.data,\n",
    "                                                    boston.target,\n",
    "                                                    test_size = 0.20,\n",
    "                                                    random_state = 21)"
   ]
  },
  {
   "cell_type": "code",
   "execution_count": 7,
   "metadata": {},
   "outputs": [],
   "source": [
    "clf = linear_model.LinearRegression()"
   ]
  },
  {
   "cell_type": "code",
   "execution_count": 8,
   "metadata": {},
   "outputs": [
    {
     "data": {
      "text/plain": [
       "LinearRegression(copy_X=True, fit_intercept=True, n_jobs=None, normalize=False)"
      ]
     },
     "execution_count": 8,
     "metadata": {},
     "output_type": "execute_result"
    }
   ],
   "source": [
    "clf.fit(X_train, y_train)"
   ]
  },
  {
   "cell_type": "code",
   "execution_count": 10,
   "metadata": {},
   "outputs": [
    {
     "data": {
      "text/plain": [
       "0.7149364161392235"
      ]
     },
     "execution_count": 10,
     "metadata": {},
     "output_type": "execute_result"
    }
   ],
   "source": [
    "clf.score(X_test, y_test)"
   ]
  },
  {
   "cell_type": "code",
   "execution_count": 17,
   "metadata": {},
   "outputs": [
    {
     "name": "stdout",
     "output_type": "stream",
     "text": [
      "/home/mrikum7/Telematics/covid19\n"
     ]
    }
   ],
   "source": [
    "cd covid19/"
   ]
  },
  {
   "cell_type": "code",
   "execution_count": 25,
   "metadata": {},
   "outputs": [
    {
     "data": {
      "text/html": [
       "<div>\n",
       "<style scoped>\n",
       "    .dataframe tbody tr th:only-of-type {\n",
       "        vertical-align: middle;\n",
       "    }\n",
       "\n",
       "    .dataframe tbody tr th {\n",
       "        vertical-align: top;\n",
       "    }\n",
       "\n",
       "    .dataframe thead th {\n",
       "        text-align: right;\n",
       "    }\n",
       "</style>\n",
       "<table border=\"1\" class=\"dataframe\">\n",
       "  <thead>\n",
       "    <tr style=\"text-align: right;\">\n",
       "      <th></th>\n",
       "      <th>SNo</th>\n",
       "      <th>DateTime</th>\n",
       "      <th>TotalSamplesTested</th>\n",
       "      <th>TotalIndividualsTested</th>\n",
       "      <th>TotalPositiveCases</th>\n",
       "      <th>Source</th>\n",
       "    </tr>\n",
       "  </thead>\n",
       "  <tbody>\n",
       "    <tr>\n",
       "      <th>0</th>\n",
       "      <td>1</td>\n",
       "      <td>13/03/20 0:00</td>\n",
       "      <td>6500</td>\n",
       "      <td>5900</td>\n",
       "      <td>78</td>\n",
       "      <td>Press_Release_ICMR_13March2020.pdf</td>\n",
       "    </tr>\n",
       "    <tr>\n",
       "      <th>1</th>\n",
       "      <td>2</td>\n",
       "      <td>18/03/20 18:00</td>\n",
       "      <td>13125</td>\n",
       "      <td>12235</td>\n",
       "      <td>150</td>\n",
       "      <td>ICMR_website_update_18March_6PM_IST.pdf</td>\n",
       "    </tr>\n",
       "    <tr>\n",
       "      <th>2</th>\n",
       "      <td>3</td>\n",
       "      <td>19/03/20 10:00</td>\n",
       "      <td>13316</td>\n",
       "      <td>12426</td>\n",
       "      <td>168</td>\n",
       "      <td>ICMR_website_update_19March_10AM_IST_V2.pdf</td>\n",
       "    </tr>\n",
       "    <tr>\n",
       "      <th>3</th>\n",
       "      <td>4</td>\n",
       "      <td>19/03/20 18:00</td>\n",
       "      <td>14175</td>\n",
       "      <td>13285</td>\n",
       "      <td>182</td>\n",
       "      <td>ICMR_website_update_19March_6PM_IST.pdf</td>\n",
       "    </tr>\n",
       "    <tr>\n",
       "      <th>4</th>\n",
       "      <td>5</td>\n",
       "      <td>20/03/20 10:00</td>\n",
       "      <td>14376</td>\n",
       "      <td>13486</td>\n",
       "      <td>206</td>\n",
       "      <td>ICMR_website_update_20March_10AM_IST.pdf</td>\n",
       "    </tr>\n",
       "    <tr>\n",
       "      <th>5</th>\n",
       "      <td>6</td>\n",
       "      <td>20/03/20 18:00</td>\n",
       "      <td>15404</td>\n",
       "      <td>14514</td>\n",
       "      <td>236</td>\n",
       "      <td>ICMR_website_update_20March_6PM_IST.pdf</td>\n",
       "    </tr>\n",
       "    <tr>\n",
       "      <th>6</th>\n",
       "      <td>7</td>\n",
       "      <td>21/03/20 10:00</td>\n",
       "      <td>15701</td>\n",
       "      <td>14811</td>\n",
       "      <td>271</td>\n",
       "      <td>ICMR_website_update_21March_10AM_IST.pdf</td>\n",
       "    </tr>\n",
       "    <tr>\n",
       "      <th>7</th>\n",
       "      <td>8</td>\n",
       "      <td>21/03/20 18:00</td>\n",
       "      <td>16911</td>\n",
       "      <td>16021</td>\n",
       "      <td>315</td>\n",
       "      <td>ICMR_website_update_21March_6PM_IST.pdf</td>\n",
       "    </tr>\n",
       "    <tr>\n",
       "      <th>8</th>\n",
       "      <td>9</td>\n",
       "      <td>22/03/20 10:00</td>\n",
       "      <td>16999</td>\n",
       "      <td>16109</td>\n",
       "      <td>341</td>\n",
       "      <td>ICMR_website_update_22March_10AM_IST.pdf</td>\n",
       "    </tr>\n",
       "    <tr>\n",
       "      <th>9</th>\n",
       "      <td>10</td>\n",
       "      <td>22/03/20 18:00</td>\n",
       "      <td>18127</td>\n",
       "      <td>17237</td>\n",
       "      <td>396</td>\n",
       "      <td>ICMR_website_update_22March_6PM_IST.pdf</td>\n",
       "    </tr>\n",
       "    <tr>\n",
       "      <th>10</th>\n",
       "      <td>11</td>\n",
       "      <td>23/03/20 10:00</td>\n",
       "      <td>18383</td>\n",
       "      <td>17493</td>\n",
       "      <td>415</td>\n",
       "      <td>ICMR_website_update_23March_10AM_IST.pdf</td>\n",
       "    </tr>\n",
       "    <tr>\n",
       "      <th>11</th>\n",
       "      <td>12</td>\n",
       "      <td>23/03/20 20:00</td>\n",
       "      <td>20707</td>\n",
       "      <td>19817</td>\n",
       "      <td>471</td>\n",
       "      <td>ICMR_website_update_23March_8PM_IST.pdf</td>\n",
       "    </tr>\n",
       "    <tr>\n",
       "      <th>12</th>\n",
       "      <td>13</td>\n",
       "      <td>24/03/20 10:00</td>\n",
       "      <td>20864</td>\n",
       "      <td>19974</td>\n",
       "      <td>482</td>\n",
       "      <td>ICMR_website_update_24March_10AM_IST.pdf</td>\n",
       "    </tr>\n",
       "    <tr>\n",
       "      <th>13</th>\n",
       "      <td>14</td>\n",
       "      <td>24/03/20 20:00</td>\n",
       "      <td>22694</td>\n",
       "      <td>21804</td>\n",
       "      <td>536</td>\n",
       "      <td>ICMR_website_update_24March_8PM_IST.pdf</td>\n",
       "    </tr>\n",
       "    <tr>\n",
       "      <th>14</th>\n",
       "      <td>15</td>\n",
       "      <td>25/03/20 10:00</td>\n",
       "      <td>22928</td>\n",
       "      <td>22038</td>\n",
       "      <td>539</td>\n",
       "      <td>ICMR_website_update_25March_10AM_IST.pdf</td>\n",
       "    </tr>\n",
       "    <tr>\n",
       "      <th>15</th>\n",
       "      <td>16</td>\n",
       "      <td>25/03/20 20:00</td>\n",
       "      <td>25144</td>\n",
       "      <td>24254</td>\n",
       "      <td>581</td>\n",
       "      <td>ICMR_website_update_25March_8PM_IST.pdf</td>\n",
       "    </tr>\n",
       "  </tbody>\n",
       "</table>\n",
       "</div>"
      ],
      "text/plain": [
       "    SNo        DateTime  TotalSamplesTested  TotalIndividualsTested  \\\n",
       "0     1   13/03/20 0:00                6500                    5900   \n",
       "1     2  18/03/20 18:00               13125                   12235   \n",
       "2     3  19/03/20 10:00               13316                   12426   \n",
       "3     4  19/03/20 18:00               14175                   13285   \n",
       "4     5  20/03/20 10:00               14376                   13486   \n",
       "5     6  20/03/20 18:00               15404                   14514   \n",
       "6     7  21/03/20 10:00               15701                   14811   \n",
       "7     8  21/03/20 18:00               16911                   16021   \n",
       "8     9  22/03/20 10:00               16999                   16109   \n",
       "9    10  22/03/20 18:00               18127                   17237   \n",
       "10   11  23/03/20 10:00               18383                   17493   \n",
       "11   12  23/03/20 20:00               20707                   19817   \n",
       "12   13  24/03/20 10:00               20864                   19974   \n",
       "13   14  24/03/20 20:00               22694                   21804   \n",
       "14   15  25/03/20 10:00               22928                   22038   \n",
       "15   16  25/03/20 20:00               25144                   24254   \n",
       "\n",
       "    TotalPositiveCases                                       Source  \n",
       "0                   78           Press_Release_ICMR_13March2020.pdf  \n",
       "1                  150      ICMR_website_update_18March_6PM_IST.pdf  \n",
       "2                  168  ICMR_website_update_19March_10AM_IST_V2.pdf  \n",
       "3                  182      ICMR_website_update_19March_6PM_IST.pdf  \n",
       "4                  206     ICMR_website_update_20March_10AM_IST.pdf  \n",
       "5                  236      ICMR_website_update_20March_6PM_IST.pdf  \n",
       "6                  271     ICMR_website_update_21March_10AM_IST.pdf  \n",
       "7                  315      ICMR_website_update_21March_6PM_IST.pdf  \n",
       "8                  341     ICMR_website_update_22March_10AM_IST.pdf  \n",
       "9                  396      ICMR_website_update_22March_6PM_IST.pdf  \n",
       "10                 415     ICMR_website_update_23March_10AM_IST.pdf  \n",
       "11                 471      ICMR_website_update_23March_8PM_IST.pdf  \n",
       "12                 482     ICMR_website_update_24March_10AM_IST.pdf  \n",
       "13                 536      ICMR_website_update_24March_8PM_IST.pdf  \n",
       "14                 539     ICMR_website_update_25March_10AM_IST.pdf  \n",
       "15                 581      ICMR_website_update_25March_8PM_IST.pdf  "
      ]
     },
     "execution_count": 25,
     "metadata": {},
     "output_type": "execute_result"
    }
   ],
   "source": [
    "data"
   ]
  },
  {
   "cell_type": "code",
   "execution_count": 46,
   "metadata": {},
   "outputs": [],
   "source": [
    "import numpy as np\n",
    "from sklearn.model_selection import train_test_split"
   ]
  },
  {
   "cell_type": "code",
   "execution_count": 29,
   "metadata": {},
   "outputs": [],
   "source": [
    "reg = linear_model.LinearRegression()"
   ]
  },
  {
   "cell_type": "code",
   "execution_count": 30,
   "metadata": {},
   "outputs": [
    {
     "data": {
      "text/plain": [
       "LinearRegression(copy_X=True, fit_intercept=True, n_jobs=None, normalize=False)"
      ]
     },
     "execution_count": 30,
     "metadata": {},
     "output_type": "execute_result"
    }
   ],
   "source": [
    "reg.fit(np.array(data['SNo']).reshape(-1, 1),\n",
    "                data['TotalPositiveCases'])"
   ]
  },
  {
   "cell_type": "code",
   "execution_count": 33,
   "metadata": {},
   "outputs": [
    {
     "data": {
      "text/plain": [
       "array([749.05882353, 782.14852941, 815.23823529, 848.32794118])"
      ]
     },
     "execution_count": 33,
     "metadata": {},
     "output_type": "execute_result"
    }
   ],
   "source": [
    "reg.predict(np.asarray([21, 22, 23, 24]).reshape(-1, 1)) "
   ]
  },
  {
   "cell_type": "code",
   "execution_count": 55,
   "metadata": {},
   "outputs": [
    {
     "name": "stdout",
     "output_type": "stream",
     "text": [
      "[['GP' 'F' 18 ... 1 3 6]\n",
      " ['GP' 'F' 17 ... 1 3 4]\n",
      " ['GP' 'F' 15 ... 3 3 10]\n",
      " ...\n",
      " ['MS' 'M' 21 ... 3 3 3]\n",
      " ['MS' 'M' 18 ... 4 5 0]\n",
      " ['MS' 'M' 19 ... 3 5 5]]\n"
     ]
    }
   ],
   "source": [
    "data = pd.read_csv('student-mat.csv')\n",
    "y1 = data['G1']\n",
    "y2 = data['G2']\n",
    "y3 = data['G3']\n",
    "X = np.asarray(data)\n",
    "X = X[:, :30]\n",
    "print(X)"
   ]
  },
  {
   "cell_type": "code",
   "execution_count": 56,
   "metadata": {
    "scrolled": true
   },
   "outputs": [
    {
     "name": "stdout",
     "output_type": "stream",
     "text": [
      "[0 'F' 18 'U' 'GT3' 'A' 4 4 'at_home' 'teacher' 'course' 'mother' 2 2 0\n",
      " 'yes' 'no' 'no' 'no' 'yes' 'yes' 'no' 'no' 4 3 4 1 1 3 6]\n",
      "[0 'F' 17 'U' 'GT3' 'T' 1 1 'at_home' 'other' 'course' 'father' 1 2 0 'no'\n",
      " 'yes' 'no' 'no' 'no' 'yes' 'yes' 'no' 5 3 3 1 1 3 4]\n"
     ]
    }
   ],
   "source": [
    "for i in range(X.shape[0]):\n",
    "    if X[i, 0] == 'GP':\n",
    "        X[i, 0] = 0       #Convert GP ==> 0\n",
    "    elif X[i, 0] == 'MS':\n",
    "        X[i, 0] = 1       #Convert MS ==> 1\n",
    "for val in X[0:2]:\n",
    "    print(val)"
   ]
  },
  {
   "cell_type": "code",
   "execution_count": 57,
   "metadata": {},
   "outputs": [
    {
     "name": "stdout",
     "output_type": "stream",
     "text": [
      "[0 1 18 'U' 'GT3' 'A' 4 4 'at_home' 'teacher' 'course' 'mother' 2 2 0\n",
      " 'yes' 'no' 'no' 'no' 'yes' 'yes' 'no' 'no' 4 3 4 1 1 3 6]\n",
      "[0 1 17 'U' 'GT3' 'T' 1 1 'at_home' 'other' 'course' 'father' 1 2 0 'no'\n",
      " 'yes' 'no' 'no' 'no' 'yes' 'yes' 'no' 5 3 3 1 1 3 4]\n"
     ]
    }
   ],
   "source": [
    "for i in range(X.shape[0]):\n",
    "    if X[i, 1] == 'M':\n",
    "        X[i, 1] = 0       #Convert M ==> 0\n",
    "    elif X[i, 1] == 'F':\n",
    "        X[i, 1] = 1       #Convert F ==> 1\n",
    "for val in X[0:2]:\n",
    "    print(val)"
   ]
  },
  {
   "cell_type": "code",
   "execution_count": 58,
   "metadata": {
    "scrolled": true
   },
   "outputs": [
    {
     "name": "stdout",
     "output_type": "stream",
     "text": [
      "[0 1 18 0 'GT3' 'A' 4 4 'at_home' 'teacher' 'course' 'mother' 2 2 0 'yes'\n",
      " 'no' 'no' 'no' 'yes' 'yes' 'no' 'no' 4 3 4 1 1 3 6]\n",
      "[0 1 17 0 'GT3' 'T' 1 1 'at_home' 'other' 'course' 'father' 1 2 0 'no'\n",
      " 'yes' 'no' 'no' 'no' 'yes' 'yes' 'no' 5 3 3 1 1 3 4]\n"
     ]
    }
   ],
   "source": [
    "j = 3\n",
    "for i in range(X.shape[0]):\n",
    "    if X[i, j] == 'U':\n",
    "        X[i, j] = 0       #Convert U ==> 0\n",
    "    elif X[i, j] == 'R':\n",
    "        X[i, j] = 1       #Convert R ==> 1\n",
    "for val in X[0:2]:\n",
    "    print(val)"
   ]
  },
  {
   "cell_type": "code",
   "execution_count": 62,
   "metadata": {},
   "outputs": [
    {
     "name": "stdout",
     "output_type": "stream",
     "text": [
      "[0 1 18 0 1 0]\n",
      "[0 1 17 0 1 1]\n",
      "[0 1 15 0 0 1]\n",
      "[0 1 15 0 1 1]\n",
      "[0 1 16 0 1 1]\n",
      "[0 0 16 0 0 1]\n",
      "[0 0 16 0 0 1]\n",
      "[0 1 17 0 1 0]\n",
      "[0 0 15 0 0 0]\n",
      "[0 0 15 0 1 1]\n",
      "[0 1 15 0 1 1]\n",
      "[0 1 15 0 1 1]\n",
      "[0 0 15 0 0 1]\n",
      "[0 0 15 0 1 1]\n",
      "[0 0 15 0 1 0]\n",
      "[0 1 16 0 1 1]\n",
      "[0 1 16 0 1 1]\n",
      "[0 1 16 0 1 1]\n",
      "[0 0 17 0 1 1]\n",
      "[0 0 16 0 0 1]\n",
      "[0 0 15 0 1 1]\n",
      "[0 0 15 0 1 1]\n",
      "[0 0 16 0 0 1]\n",
      "[0 0 16 0 0 1]\n",
      "[0 1 15 1 1 1]\n",
      "[0 1 16 0 1 1]\n",
      "[0 0 15 0 1 1]\n",
      "[0 0 15 0 1 1]\n",
      "[0 0 16 0 0 0]\n",
      "[0 0 16 0 1 1]\n",
      "[0 0 15 0 1 1]\n",
      "[0 0 15 0 1 1]\n",
      "[0 0 15 1 1 1]\n",
      "[0 0 15 0 0 1]\n",
      "[0 0 16 0 1 1]\n",
      "[0 1 15 0 1 1]\n",
      "[0 0 15 0 0 1]\n",
      "[0 0 16 1 1 0]\n",
      "[0 1 15 1 1 1]\n",
      "[0 1 15 1 1 1]\n",
      "[0 1 16 0 0 1]\n",
      "[0 0 15 0 0 1]\n",
      "[0 0 15 0 1 1]\n",
      "[0 0 15 0 1 1]\n",
      "[0 1 16 0 0 1]\n",
      "[0 1 15 0 0 0]\n",
      "[0 1 16 0 0 0]\n",
      "[0 0 16 0 1 1]\n",
      "[0 0 15 0 1 1]\n",
      "[0 1 15 0 1 1]\n",
      "[0 1 16 0 0 1]\n",
      "[0 1 15 0 0 1]\n",
      "[0 0 15 0 0 0]\n",
      "[0 1 15 0 1 1]\n",
      "[0 1 15 0 0 0]\n",
      "[0 1 16 0 1 0]\n",
      "[0 1 15 0 1 0]\n",
      "[0 0 15 0 1 1]\n",
      "[0 0 15 0 0 1]\n",
      "[0 1 16 0 1 1]\n",
      "[0 1 16 1 1 1]\n",
      "[0 1 16 0 1 1]\n",
      "[0 1 16 0 0 1]\n",
      "[0 1 16 0 1 1]\n",
      "[0 1 15 0 0 1]\n",
      "[0 1 16 0 0 1]\n",
      "[0 0 15 0 1 0]\n",
      "[0 1 16 0 1 1]\n",
      "[0 1 15 1 0 1]\n",
      "[0 1 15 1 0 1]\n",
      "[0 0 16 0 1 1]\n",
      "[0 0 15 0 1 1]\n",
      "[0 1 15 1 1 1]\n",
      "[0 0 16 0 1 1]\n",
      "[0 1 16 0 1 1]\n",
      "[0 0 15 0 1 1]\n",
      "[0 0 15 0 1 1]\n",
      "[0 1 16 0 1 1]\n",
      "[0 0 17 0 1 1]\n",
      "[0 1 16 0 1 1]\n",
      "[0 0 15 0 1 1]\n",
      "[0 0 15 0 1 1]\n",
      "[0 1 15 0 0 1]\n",
      "[0 0 15 0 0 1]\n",
      "[0 1 15 0 1 1]\n",
      "[0 1 15 0 1 1]\n",
      "[0 1 16 0 0 1]\n",
      "[0 1 15 0 1 1]\n",
      "[0 0 16 0 1 1]\n",
      "[0 0 16 0 0 0]\n",
      "[0 1 16 0 1 1]\n",
      "[0 1 15 0 1 1]\n",
      "[0 1 16 0 0 1]\n",
      "[0 1 16 0 1 1]\n",
      "[0 0 15 0 0 1]\n",
      "[0 1 15 1 1 1]\n",
      "[0 0 16 1 1 1]\n",
      "[0 1 16 0 1 1]\n",
      "[0 1 16 0 1 1]\n",
      "[0 1 16 0 1 1]\n",
      "[0 0 16 0 1 1]\n",
      "[0 0 16 0 1 1]\n",
      "[0 0 15 0 1 1]\n",
      "[0 1 15 0 1 1]\n",
      "[0 0 15 0 1 0]\n",
      "[0 1 15 0 1 0]\n",
      "[0 1 15 0 1 1]\n",
      "[0 0 16 0 1 1]\n",
      "[0 0 15 1 1 1]\n",
      "[0 1 16 0 0 1]\n",
      "[0 0 15 0 0 0]\n",
      "[0 1 16 1 1 1]\n",
      "[0 1 16 0 1 1]\n",
      "[0 0 15 0 0 1]\n",
      "[0 0 15 1 1 1]\n",
      "[0 0 16 0 1 1]\n",
      "[0 0 15 0 1 1]\n",
      "[0 0 16 0 1 1]\n",
      "[0 0 17 1 1 1]\n",
      "[0 0 15 0 1 1]\n",
      "[0 1 15 0 1 1]\n",
      "[0 0 15 0 1 1]\n",
      "[0 1 16 0 0 1]\n",
      "[0 0 16 0 1 1]\n",
      "[0 1 16 0 1 1]\n",
      "[0 0 15 0 1 1]\n",
      "[0 1 15 0 0 0]\n",
      "[0 1 19 0 1 1]\n",
      "[0 0 18 1 1 1]\n",
      "[0 0 16 1 1 1]\n",
      "[0 1 15 1 1 1]\n",
      "[0 1 15 0 1 1]\n",
      "[0 1 17 0 0 1]\n",
      "[0 1 16 0 1 0]\n",
      "[0 0 15 1 1 1]\n",
      "[0 1 15 0 1 1]\n",
      "[0 0 17 1 1 1]\n",
      "[0 1 16 0 1 0]\n",
      "[0 0 16 0 0 1]\n",
      "[0 1 15 0 1 1]\n",
      "[0 0 15 0 1 1]\n",
      "[0 0 16 0 0 1]\n",
      "[0 1 15 0 1 1]\n",
      "[0 1 16 0 0 1]\n",
      "[0 0 17 0 1 1]\n",
      "[0 1 15 0 1 1]\n",
      "[0 1 15 0 1 1]\n",
      "[0 1 15 0 1 1]\n",
      "[0 0 16 0 1 1]\n",
      "[0 0 15 0 0 0]\n",
      "[0 0 18 0 0 1]\n",
      "[0 0 16 0 0 1]\n",
      "[0 1 15 1 1 1]\n",
      "[0 0 19 0 1 1]\n",
      "[0 1 17 0 1 1]\n",
      "[0 0 15 1 1 1]\n",
      "[0 0 17 1 0 1]\n",
      "[0 1 18 1 1 1]\n",
      "[0 0 16 1 1 1]\n",
      "[0 0 16 0 1 1]\n",
      "[0 0 17 1 0 1]\n",
      "[0 0 15 1 1 1]\n",
      "[0 0 16 0 0 1]\n",
      "[0 0 17 0 1 1]\n",
      "[0 0 17 1 0 1]\n",
      "[0 0 16 0 1 1]\n",
      "[0 0 16 0 1 1]\n",
      "[0 1 16 0 1 1]\n",
      "[0 1 16 0 1 1]\n",
      "[0 1 16 0 1 1]\n",
      "[0 0 16 0 1 1]\n",
      "[0 0 16 0 1 1]\n",
      "[0 0 17 0 0 1]\n",
      "[0 1 16 0 1 1]\n",
      "[0 1 16 0 0 1]\n",
      "[0 0 17 0 0 1]\n",
      "[0 1 16 0 1 1]\n",
      "[0 0 17 0 1 1]\n",
      "[0 0 16 1 1 1]\n",
      "[0 0 17 0 1 1]\n",
      "[0 0 16 0 1 1]\n",
      "[0 0 16 0 1 1]\n",
      "[0 1 17 0 1 1]\n",
      "[0 1 17 0 0 1]\n",
      "[0 1 16 0 1 1]\n",
      "[0 0 17 0 1 1]\n",
      "[0 0 16 0 1 1]\n",
      "[0 0 16 0 0 1]\n",
      "[0 1 17 0 1 0]\n",
      "[0 0 17 1 1 1]\n",
      "[0 1 16 0 1 1]\n",
      "[0 1 17 0 1 1]\n",
      "[0 0 17 0 1 1]\n",
      "[0 0 16 1 1 1]\n",
      "[0 0 16 0 1 1]\n",
      "[0 1 17 0 0 1]\n",
      "[0 0 17 0 1 1]\n",
      "[0 0 16 1 0 1]\n",
      "[0 1 17 0 1 1]\n",
      "[0 1 16 0 0 1]\n",
      "[0 1 16 0 1 1]\n",
      "[0 1 16 0 1 1]\n",
      "[0 1 17 0 1 1]\n",
      "[0 1 17 1 1 1]\n",
      "[0 1 16 1 1 1]\n",
      "[0 1 17 0 1 1]\n",
      "[0 1 16 0 1 0]\n",
      "[0 1 16 0 1 1]\n",
      "[0 1 16 0 1 1]\n",
      "[0 1 17 1 1 1]\n",
      "[0 1 19 0 1 1]\n",
      "[0 0 17 0 0 1]\n",
      "[0 1 16 0 1 0]\n",
      "[0 0 18 0 1 1]\n",
      "[0 1 17 1 0 1]\n",
      "[0 1 17 0 0 1]\n",
      "[0 1 17 0 1 1]\n",
      "[0 0 18 0 0 1]\n",
      "[0 1 17 0 1 1]\n",
      "[0 1 17 0 1 1]\n",
      "[0 1 17 1 1 1]\n",
      "[0 1 17 0 1 1]\n",
      "[0 1 16 0 1 1]\n",
      "[0 0 18 0 1 1]\n",
      "[0 1 16 0 1 1]\n",
      "[0 1 18 1 1 1]\n",
      "[0 1 17 0 1 1]\n",
      "[0 0 17 0 0 1]\n",
      "[0 0 18 0 0 1]\n",
      "[0 1 17 0 1 0]\n",
      "[0 1 17 0 0 1]\n",
      "[0 0 17 1 1 1]\n",
      "[0 0 17 0 1 1]\n",
      "[0 0 16 0 1 1]\n",
      "[0 0 16 0 0 1]\n",
      "[0 0 16 0 1 1]\n",
      "[0 0 17 0 0 1]\n",
      "[0 1 16 0 1 1]\n",
      "[0 1 17 1 1 1]\n",
      "[0 0 18 0 1 1]\n",
      "[0 0 17 0 0 1]\n",
      "[0 0 17 1 0 0]\n",
      "[0 0 16 0 0 1]\n",
      "[0 0 16 0 1 1]\n",
      "[0 1 18 0 1 1]\n",
      "[0 0 16 0 1 1]\n",
      "[0 0 17 0 1 1]\n",
      "[0 0 22 0 1 1]\n",
      "[0 0 18 1 0 1]\n",
      "[0 0 16 0 1 1]\n",
      "[0 0 18 0 1 1]\n",
      "[0 0 16 0 1 1]\n",
      "[0 0 18 0 1 1]\n",
      "[0 0 16 1 1 1]\n",
      "[0 0 17 1 1 1]\n",
      "[0 0 17 0 0 1]\n",
      "[0 1 17 0 0 1]\n",
      "[0 0 19 0 0 0]\n",
      "[0 0 18 0 1 1]\n",
      "[0 1 17 0 0 1]\n",
      "[0 1 18 0 1 1]\n",
      "[0 0 18 0 1 1]\n",
      "[0 0 18 1 1 1]\n",
      "[0 1 17 0 1 1]\n",
      "[0 1 18 0 1 1]\n",
      "[0 0 18 1 0 0]\n",
      "[0 0 17 0 1 1]\n",
      "[0 1 18 1 1 1]\n",
      "[0 0 18 0 1 1]\n",
      "[0 1 18 1 1 1]\n",
      "[0 1 19 0 1 1]\n",
      "[0 1 18 0 1 1]\n",
      "[0 1 18 0 0 1]\n",
      "[0 0 17 1 1 1]\n",
      "[0 1 17 0 1 1]\n",
      "[0 1 17 0 0 1]\n",
      "[0 1 18 1 1 0]\n",
      "[0 0 18 0 1 1]\n",
      "[0 1 18 0 1 1]\n",
      "[0 0 18 0 0 1]\n",
      "[0 0 17 0 0 0]\n",
      "[0 0 17 0 0 0]\n",
      "[0 1 18 1 0 1]\n",
      "[0 1 18 0 1 1]\n",
      "[0 1 17 0 1 1]\n",
      "[0 0 17 0 1 1]\n",
      "[0 1 18 0 1 1]\n",
      "[0 1 17 0 1 1]\n",
      "[0 0 18 0 1 1]\n",
      "[0 0 18 0 0 0]\n",
      "[0 0 18 0 1 1]\n",
      "[0 1 17 0 1 1]\n",
      "[0 1 18 0 0 1]\n",
      "[0 1 17 1 0 1]\n",
      "[0 0 18 1 0 1]\n",
      "[0 0 17 0 1 1]\n",
      "[0 1 19 0 1 1]\n",
      "[0 1 18 0 0 1]\n",
      "[0 1 18 0 1 1]\n",
      "[0 0 18 0 0 1]\n",
      "[0 1 18 0 0 0]\n",
      "[0 0 17 0 0 1]\n",
      "[0 1 17 0 1 1]\n",
      "[0 1 17 0 1 1]\n",
      "[0 0 19 0 1 1]\n",
      "[0 1 18 0 1 1]\n",
      "[0 0 20 0 1 0]\n",
      "[0 0 19 0 1 1]\n",
      "[0 0 19 1 1 1]\n",
      "[0 1 19 0 0 1]\n",
      "[0 1 19 0 0 1]\n",
      "[0 1 19 0 1 1]\n",
      "[0 0 19 0 1 1]\n",
      "[0 1 19 0 0 1]\n",
      "[0 1 19 0 1 1]\n",
      "[0 1 19 1 1 1]\n",
      "[0 1 18 0 1 1]\n",
      "[0 1 18 0 1 1]\n",
      "[0 1 17 1 1 1]\n",
      "[0 1 18 0 1 1]\n",
      "[0 1 17 0 1 0]\n",
      "[0 1 17 0 1 1]\n",
      "[0 1 17 1 0 1]\n",
      "[0 1 17 0 1 1]\n",
      "[0 1 17 0 0 1]\n",
      "[0 0 18 0 1 1]\n",
      "[0 0 17 0 1 1]\n",
      "[0 0 17 1 1 1]\n",
      "[0 1 17 0 1 1]\n",
      "[0 1 17 0 1 1]\n",
      "[0 0 18 0 0 1]\n",
      "[0 1 17 1 1 1]\n",
      "[0 1 18 0 1 1]\n",
      "[0 1 18 0 0 1]\n",
      "[0 1 18 1 1 1]\n",
      "[0 1 17 0 1 1]\n",
      "[0 1 19 1 1 0]\n",
      "[0 1 17 0 1 1]\n",
      "[0 1 18 0 0 1]\n",
      "[0 1 17 1 1 0]\n",
      "[0 1 19 0 1 1]\n",
      "[0 0 18 0 1 1]\n",
      "[0 0 18 0 0 1]\n",
      "[0 1 17 0 1 0]\n",
      "[0 1 18 0 1 1]\n",
      "[0 1 18 0 1 1]\n",
      "[0 0 18 1 1 1]\n",
      "[0 0 18 0 1 1]\n",
      "[0 1 17 0 1 1]\n",
      "[1 0 18 1 1 1]\n",
      "[1 0 19 1 1 1]\n",
      "[1 0 17 0 1 1]\n",
      "[1 0 18 0 0 1]\n",
      "[1 0 19 1 1 1]\n",
      "[1 0 17 1 1 1]\n",
      "[1 1 18 0 1 1]\n",
      "[1 1 17 1 1 1]\n",
      "[1 1 17 0 0 0]\n",
      "[1 0 18 0 0 1]\n",
      "[1 1 18 0 0 1]\n",
      "[1 1 18 1 0 0]\n",
      "[1 0 18 1 0 1]\n",
      "[1 1 18 0 1 1]\n",
      "[1 1 17 0 0 1]\n",
      "[1 1 17 1 1 1]\n",
      "[1 0 18 1 1 1]\n",
      "[1 0 18 0 0 1]\n",
      "[1 1 17 1 1 1]\n",
      "[1 1 18 0 1 1]\n",
      "[1 1 18 1 1 1]\n",
      "[1 1 19 0 0 1]\n",
      "[1 0 18 1 0 1]\n",
      "[1 1 17 0 1 1]\n",
      "[1 1 17 1 1 1]\n",
      "[1 1 18 1 0 1]\n",
      "[1 1 18 1 1 1]\n",
      "[1 1 20 0 1 1]\n",
      "[1 1 18 1 0 1]\n",
      "[1 1 18 0 1 1]\n",
      "[1 1 17 1 1 1]\n",
      "[1 0 18 0 1 1]\n",
      "[1 0 18 1 1 1]\n",
      "[1 0 17 0 1 1]\n",
      "[1 0 19 1 1 1]\n",
      "[1 0 18 1 1 1]\n",
      "[1 1 18 1 1 1]\n",
      "[1 1 18 1 1 1]\n",
      "[1 1 19 1 1 1]\n",
      "[1 1 18 0 0 1]\n",
      "[1 1 18 0 1 1]\n",
      "[1 0 20 0 0 0]\n",
      "[1 0 17 0 0 1]\n",
      "[1 0 21 1 1 1]\n",
      "[1 0 18 1 0 1]\n",
      "[1 0 19 0 0 1]\n"
     ]
    }
   ],
   "source": [
    "j = 5\n",
    "for i in range(X.shape[0]):\n",
    "    if X[i, j] == 'A':\n",
    "        X[i, j] = 0       #Convert A ==> 0\n",
    "    elif X[i, j] == 'T':\n",
    "        X[i, j] = 1       #Convert T ==> 1\n",
    "for val in X[0:, 0:6]:\n",
    "    print(val)"
   ]
  },
  {
   "cell_type": "code",
   "execution_count": 47,
   "metadata": {},
   "outputs": [],
   "source": [
    "X_train, X_test, y_train, y_test = train_test_split(X, y1,\n",
    "                                                    test_size = 0.20,\n",
    "                                                    random_state = 10)"
   ]
  },
  {
   "cell_type": "code",
   "execution_count": 48,
   "metadata": {},
   "outputs": [],
   "source": [
    "reg = linear_model.LinearRegression()"
   ]
  },
  {
   "cell_type": "code",
   "execution_count": 49,
   "metadata": {},
   "outputs": [
    {
     "ename": "ValueError",
     "evalue": "could not convert string to float: 'GP'",
     "output_type": "error",
     "traceback": [
      "\u001b[0;31m---------------------------------------------------------------------------\u001b[0m",
      "\u001b[0;31mValueError\u001b[0m                                Traceback (most recent call last)",
      "\u001b[0;32m<ipython-input-49-72fed17b97bc>\u001b[0m in \u001b[0;36m<module>\u001b[0;34m\u001b[0m\n\u001b[0;32m----> 1\u001b[0;31m \u001b[0mreg\u001b[0m\u001b[0;34m.\u001b[0m\u001b[0mfit\u001b[0m\u001b[0;34m(\u001b[0m\u001b[0mX_train\u001b[0m\u001b[0;34m,\u001b[0m \u001b[0mX_test\u001b[0m\u001b[0;34m)\u001b[0m\u001b[0;34m\u001b[0m\u001b[0;34m\u001b[0m\u001b[0m\n\u001b[0m",
      "\u001b[0;32m~/anaconda3/lib/python3.7/site-packages/sklearn/linear_model/_base.py\u001b[0m in \u001b[0;36mfit\u001b[0;34m(self, X, y, sample_weight)\u001b[0m\n\u001b[1;32m    490\u001b[0m         \u001b[0mn_jobs_\u001b[0m \u001b[0;34m=\u001b[0m \u001b[0mself\u001b[0m\u001b[0;34m.\u001b[0m\u001b[0mn_jobs\u001b[0m\u001b[0;34m\u001b[0m\u001b[0;34m\u001b[0m\u001b[0m\n\u001b[1;32m    491\u001b[0m         X, y = check_X_y(X, y, accept_sparse=['csr', 'csc', 'coo'],\n\u001b[0;32m--> 492\u001b[0;31m                          y_numeric=True, multi_output=True)\n\u001b[0m\u001b[1;32m    493\u001b[0m \u001b[0;34m\u001b[0m\u001b[0m\n\u001b[1;32m    494\u001b[0m         \u001b[0;32mif\u001b[0m \u001b[0msample_weight\u001b[0m \u001b[0;32mis\u001b[0m \u001b[0;32mnot\u001b[0m \u001b[0;32mNone\u001b[0m\u001b[0;34m:\u001b[0m\u001b[0;34m\u001b[0m\u001b[0;34m\u001b[0m\u001b[0m\n",
      "\u001b[0;32m~/anaconda3/lib/python3.7/site-packages/sklearn/utils/validation.py\u001b[0m in \u001b[0;36mcheck_X_y\u001b[0;34m(X, y, accept_sparse, accept_large_sparse, dtype, order, copy, force_all_finite, ensure_2d, allow_nd, multi_output, ensure_min_samples, ensure_min_features, y_numeric, warn_on_dtype, estimator)\u001b[0m\n\u001b[1;32m    753\u001b[0m                     \u001b[0mensure_min_features\u001b[0m\u001b[0;34m=\u001b[0m\u001b[0mensure_min_features\u001b[0m\u001b[0;34m,\u001b[0m\u001b[0;34m\u001b[0m\u001b[0;34m\u001b[0m\u001b[0m\n\u001b[1;32m    754\u001b[0m                     \u001b[0mwarn_on_dtype\u001b[0m\u001b[0;34m=\u001b[0m\u001b[0mwarn_on_dtype\u001b[0m\u001b[0;34m,\u001b[0m\u001b[0;34m\u001b[0m\u001b[0;34m\u001b[0m\u001b[0m\n\u001b[0;32m--> 755\u001b[0;31m                     estimator=estimator)\n\u001b[0m\u001b[1;32m    756\u001b[0m     \u001b[0;32mif\u001b[0m \u001b[0mmulti_output\u001b[0m\u001b[0;34m:\u001b[0m\u001b[0;34m\u001b[0m\u001b[0;34m\u001b[0m\u001b[0m\n\u001b[1;32m    757\u001b[0m         y = check_array(y, 'csr', force_all_finite=True, ensure_2d=False,\n",
      "\u001b[0;32m~/anaconda3/lib/python3.7/site-packages/sklearn/utils/validation.py\u001b[0m in \u001b[0;36mcheck_array\u001b[0;34m(array, accept_sparse, accept_large_sparse, dtype, order, copy, force_all_finite, ensure_2d, allow_nd, ensure_min_samples, ensure_min_features, warn_on_dtype, estimator)\u001b[0m\n\u001b[1;32m    529\u001b[0m                     \u001b[0marray\u001b[0m \u001b[0;34m=\u001b[0m \u001b[0marray\u001b[0m\u001b[0;34m.\u001b[0m\u001b[0mastype\u001b[0m\u001b[0;34m(\u001b[0m\u001b[0mdtype\u001b[0m\u001b[0;34m,\u001b[0m \u001b[0mcasting\u001b[0m\u001b[0;34m=\u001b[0m\u001b[0;34m\"unsafe\"\u001b[0m\u001b[0;34m,\u001b[0m \u001b[0mcopy\u001b[0m\u001b[0;34m=\u001b[0m\u001b[0;32mFalse\u001b[0m\u001b[0;34m)\u001b[0m\u001b[0;34m\u001b[0m\u001b[0;34m\u001b[0m\u001b[0m\n\u001b[1;32m    530\u001b[0m                 \u001b[0;32melse\u001b[0m\u001b[0;34m:\u001b[0m\u001b[0;34m\u001b[0m\u001b[0;34m\u001b[0m\u001b[0m\n\u001b[0;32m--> 531\u001b[0;31m                     \u001b[0marray\u001b[0m \u001b[0;34m=\u001b[0m \u001b[0mnp\u001b[0m\u001b[0;34m.\u001b[0m\u001b[0masarray\u001b[0m\u001b[0;34m(\u001b[0m\u001b[0marray\u001b[0m\u001b[0;34m,\u001b[0m \u001b[0morder\u001b[0m\u001b[0;34m=\u001b[0m\u001b[0morder\u001b[0m\u001b[0;34m,\u001b[0m \u001b[0mdtype\u001b[0m\u001b[0;34m=\u001b[0m\u001b[0mdtype\u001b[0m\u001b[0;34m)\u001b[0m\u001b[0;34m\u001b[0m\u001b[0;34m\u001b[0m\u001b[0m\n\u001b[0m\u001b[1;32m    532\u001b[0m             \u001b[0;32mexcept\u001b[0m \u001b[0mComplexWarning\u001b[0m\u001b[0;34m:\u001b[0m\u001b[0;34m\u001b[0m\u001b[0;34m\u001b[0m\u001b[0m\n\u001b[1;32m    533\u001b[0m                 raise ValueError(\"Complex data not supported\\n\"\n",
      "\u001b[0;32m~/anaconda3/lib/python3.7/site-packages/numpy/core/_asarray.py\u001b[0m in \u001b[0;36masarray\u001b[0;34m(a, dtype, order)\u001b[0m\n\u001b[1;32m     83\u001b[0m \u001b[0;34m\u001b[0m\u001b[0m\n\u001b[1;32m     84\u001b[0m     \"\"\"\n\u001b[0;32m---> 85\u001b[0;31m     \u001b[0;32mreturn\u001b[0m \u001b[0marray\u001b[0m\u001b[0;34m(\u001b[0m\u001b[0ma\u001b[0m\u001b[0;34m,\u001b[0m \u001b[0mdtype\u001b[0m\u001b[0;34m,\u001b[0m \u001b[0mcopy\u001b[0m\u001b[0;34m=\u001b[0m\u001b[0;32mFalse\u001b[0m\u001b[0;34m,\u001b[0m \u001b[0morder\u001b[0m\u001b[0;34m=\u001b[0m\u001b[0morder\u001b[0m\u001b[0;34m)\u001b[0m\u001b[0;34m\u001b[0m\u001b[0;34m\u001b[0m\u001b[0m\n\u001b[0m\u001b[1;32m     86\u001b[0m \u001b[0;34m\u001b[0m\u001b[0m\n\u001b[1;32m     87\u001b[0m \u001b[0;34m\u001b[0m\u001b[0m\n",
      "\u001b[0;31mValueError\u001b[0m: could not convert string to float: 'GP'"
     ]
    }
   ],
   "source": [
    "reg.fit(X_train, X_test)"
   ]
  }
 ],
 "metadata": {
  "kernelspec": {
   "display_name": "Python 3",
   "language": "python",
   "name": "python3"
  },
  "language_info": {
   "codemirror_mode": {
    "name": "ipython",
    "version": 3
   },
   "file_extension": ".py",
   "mimetype": "text/x-python",
   "name": "python",
   "nbconvert_exporter": "python",
   "pygments_lexer": "ipython3",
   "version": "3.7.4"
  }
 },
 "nbformat": 4,
 "nbformat_minor": 2
}
